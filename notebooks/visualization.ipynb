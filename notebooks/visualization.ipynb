{
 "cells": [
  {
   "cell_type": "markdown",
   "metadata": {},
   "source": [
    "# 🗺️ Traffic Speed Visualization (MapboxGL)"
   ]
  },
  {
   "cell_type": "code",
   "execution_count": null,
   "metadata": {},
   "outputs": [],
   "source": [
    "# 📦 Install dependencies (if not already installed)\n",
    "!pip install requests pandas geopandas mapboxgl shapely --quiet"
   ]
  },
  {
   "cell_type": "code",
   "execution_count": null,
   "metadata": {},
   "outputs": [],
   "source": [
    "# 🔧 Setup\n",
    "import requests\n",
    "import pandas as pd\n",
    "from mapboxgl.viz import ChoroplethViz\n",
    "from mapboxgl.utils import create_color_stops\n",
    "\n",
    "# Replace with your actual Mapbox token\n",
    "MAPBOX_TOKEN = \"your_mapbox_token_here\"\n",
    "\n",
    "# API base URL\n",
    "BASE_URL = \"http://localhost:8000\""
   ]
  },
  {
   "cell_type": "code",
   "execution_count": null,
   "metadata": {},
   "outputs": [],
   "source": [
    "# 🧪 Query aggregated API endpoint\n",
    "params = {\n",
    "    \"day\": \"Monday\",\n",
    "    \"period\": \"AM Peak\"\n",
    "}\n",
    "response = requests.get(f\"{BASE_URL}/aggregates/\", params=params)\n",
    "\n",
    "# GeoJSON-style features\n",
    "geojson_data = response.json()\n",
    "print(f\"Retrieved {len(geojson_data)} features\")"
   ]
  },
  {
   "cell_type": "code",
   "execution_count": null,
   "metadata": {},
   "outputs": [],
   "source": [
    "# 🎨 Build color-coded map\n",
    "features = [\n",
    "    {\n",
    "        \"type\": \"Feature\",\n",
    "        \"geometry\": f[\"geometry\"],\n",
    "        \"properties\": {\n",
    "            \"average_speed\": f[\"properties\"][\"average_speed\"],\n",
    "            \"road_name\": f[\"properties\"].get(\"road_name\", \"Unnamed\")\n",
    "        }\n",
    "    }\n",
    "    for f in geojson_data\n",
    "]\n",
    "\n",
    "viz = ChoroplethViz(\n",
    "    {\n",
    "        \"type\": \"FeatureCollection\",\n",
    "        \"features\": features\n",
    "    },\n",
    "    access_token=MAPBOX_TOKEN,\n",
    "    color_property=\"average_speed\",\n",
    "    color_stops=create_color_stops([10, 20, 30, 40, 50], colors='Reds'),\n",
    "    center=(-81.6557, 30.3322),\n",
    "    zoom=11,\n",
    "    line_width=1.5,\n",
    "    opacity=0.8,\n",
    "    legend_title=\"Average Speed (mph)\"\n",
    ")\n",
    "viz.show()"
   ]
  },
  {
   "cell_type": "code",
   "execution_count": null,
   "metadata": {},
   "outputs": [],
   "source": [
    "# 📊 Optional Tabular Summary\n",
    "df = pd.DataFrame([\n",
    "    {\n",
    "        \"road_name\": f[\"properties\"].get(\"road_name\", \"Unnamed\"),\n",
    "        \"avg_speed\": f[\"properties\"][\"average_speed\"]\n",
    "    }\n",
    "    for f in geojson_data\n",
    "])\n",
    "\n",
    "df.sort_values(\"avg_speed\").head(10)"
   ]
  }
 ],
 "metadata": {
  "kernelspec": {
   "display_name": "Python 3",
   "language": "python",
   "name": "python3"
  },
  "language_info": {
   "name": "python"
  }
 },
 "nbformat": 4,
 "nbformat_minor": 2
}

