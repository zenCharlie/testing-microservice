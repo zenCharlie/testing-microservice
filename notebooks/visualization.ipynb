{
 "cells": [
  {
   "cell_type": "markdown",
   "metadata": {},
   "source": [
    "# 🗺️ Traffic Speed Visualization (MapboxGL)"
   ]
  },
  {
   "cell_type": "code",
   "execution_count": 4,
   "metadata": {},
   "outputs": [
    {
     "name": "stdout",
     "output_type": "stream",
     "text": [
      "\u001b[33mWARNING: Running pip as the 'root' user can result in broken permissions and conflicting behaviour with the system package manager, possibly rendering your system unusable. It is recommended to use a virtual environment instead: https://pip.pypa.io/warnings/venv. Use the --root-user-action option if you know what you are doing and want to suppress this warning.\u001b[0m\u001b[33m\n",
      "\u001b[0m"
     ]
    }
   ],
   "source": [
    "# 📦 Install dependencies (if not already installed)\n",
    "!pip install requests pandas geopandas mapboxgl shapely --quiet"
   ]
  },
  {
   "cell_type": "code",
   "execution_count": 15,
   "metadata": {},
   "outputs": [],
   "source": [
    "# 🔧 Setup\n",
    "import requests\n",
    "import pandas as pd\n",
    "from mapboxgl.viz import ChoroplethViz\n",
    "from mapboxgl.utils import create_color_stops\n",
    "\n",
    "# Replace with your actual Mapbox token\n",
    "MAPBOX_TOKEN = \"pk.eyJ1IjoiemVuY2hhcmxpZSIsImEiOiJjbWNoMHJuNmgwbzR2Mm5vdDhncjZtOGczIn0.P0j16UZhaq-nh3iNF-NX9Q\"\n",
    "#viz.show()\n",
    "# API base URL\n",
    "BASE_URL = \"http://127.0.0.1:8000\"\n"
   ]
  },
  {
   "cell_type": "code",
   "execution_count": null,
   "metadata": {},
   "outputs": [],
   "source": [
    "# 🧪 Query aggregated API endpoint\n",
    "BASE_URL = \"http://127.0.0.1:8000\"\n",
    "params = {\n",
    "    \"day_of_week\": \"Monday\",\n",
    "    \"time_period\": \"AM Peak\"\n",
    "}\n",
    "response = requests.get(f\"{BASE_URL}/aggregates/\", params=params)\n",
    "# Optional debug\n",
    "print(response.status_code)\n",
    "print(response.text)\n",
    "# GeoJSON-style features\n",
    "geojson_data = response.json()\n",
    "print(f\"Retrieved {len(geojson_data)} features\")"
   ]
  },
  {
   "cell_type": "code",
   "execution_count": null,
   "metadata": {},
   "outputs": [],
   "source": [
    "# 🎨 Build color-coded map\n",
    "features = [\n",
    "    {\n",
    "        \"type\": \"Feature\",\n",
    "        \"geometry\": f[\"geometry\"],\n",
    "        \"properties\": {\n",
    "            \"average_speed\": f[\"properties\"][\"average_speed\"],\n",
    "            \"road_name\": f[\"properties\"].get(\"road_name\", \"Unnamed\")\n",
    "        }\n",
    "    }\n",
    "    for f in geojson_data\n",
    "]\n",
    "\n",
    "viz = ChoroplethViz(\n",
    "    {\n",
    "        \"type\": \"FeatureCollection\",\n",
    "        \"features\": features\n",
    "    },\n",
    "    access_token=MAPBOX_TOKEN,\n",
    "    color_property=\"average_speed\",\n",
    "    color_stops=create_color_stops([10, 20, 30, 40, 50], colors='Reds'),\n",
    "    center=(-81.6557, 30.3322),\n",
    "    zoom=11,\n",
    "    line_width=1.5,\n",
    "    opacity=0.8,\n",
    "    legend_title=\"Average Speed (mph)\"\n",
    ")\n",
    "viz.show()"
   ]
  },
  {
   "cell_type": "code",
   "execution_count": null,
   "metadata": {},
   "outputs": [],
   "source": [
    "# 📊 Optional Tabular Summary\n",
    "df = pd.DataFrame([\n",
    "    {\n",
    "        \"road_name\": f[\"properties\"].get(\"road_name\", \"Unnamed\"),\n",
    "        \"avg_speed\": f[\"properties\"][\"average_speed\"]\n",
    "    }\n",
    "    for f in geojson_data\n",
    "])\n",
    "\n",
    "df.sort_values(\"avg_speed\").head(10)"
   ]
  },
  {
   "cell_type": "code",
   "execution_count": null,
   "metadata": {},
   "outputs": [],
   "source": []
  },
  {
   "cell_type": "code",
   "execution_count": null,
   "metadata": {},
   "outputs": [],
   "source": []
  },
  {
   "cell_type": "code",
   "execution_count": null,
   "metadata": {},
   "outputs": [],
   "source": []
  },
  {
   "cell_type": "code",
   "execution_count": null,
   "metadata": {},
   "outputs": [],
   "source": []
  }
 ],
 "metadata": {
  "kernelspec": {
   "display_name": "Python 3 (ipykernel)",
   "language": "python",
   "name": "python3"
  },
  "language_info": {
   "codemirror_mode": {
    "name": "ipython",
    "version": 3
   },
   "file_extension": ".py",
   "mimetype": "text/x-python",
   "name": "python",
   "nbconvert_exporter": "python",
   "pygments_lexer": "ipython3",
   "version": "3.11.13"
  }
 },
 "nbformat": 4,
 "nbformat_minor": 4
}
